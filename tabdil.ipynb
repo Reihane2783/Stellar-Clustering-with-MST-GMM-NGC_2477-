{
 "cells": [
  {
   "cell_type": "code",
   "execution_count": 27,
   "id": "decaef71-022d-43bd-96fa-90fb2040d74b",
   "metadata": {},
   "outputs": [
    {
     "name": "stdout",
     "output_type": "stream",
     "text": [
      "                       DESIGNATION            SOURCE_ID          ra  \\\n",
      "0     Gaia DR3 4054222323134873088  4054222323134873088  265.011579   \n",
      "1     Gaia DR3 4054222872887280000  4054222872887280000  265.097712   \n",
      "2     Gaia DR3 4054222696761289472  4054222696761289472  265.068896   \n",
      "3     Gaia DR3 4054222696761290752  4054222696761290752  265.070567   \n",
      "4     Gaia DR3 4054223250859503104  4054223250859503104  265.110854   \n",
      "...                            ...                  ...         ...   \n",
      "6001  Gaia DR3 4054220983101461760  4054220983101461760  265.035517   \n",
      "6002  Gaia DR3 4054220983101464960  4054220983101464960  265.032417   \n",
      "6003  Gaia DR3 4054220983101465344  4054220983101465344  265.031673   \n",
      "6004  Gaia DR3 4054220983101469056  4054220983101469056  265.039390   \n",
      "6005  Gaia DR3 4054220983101469824  4054220983101469824  265.030130   \n",
      "\n",
      "       ra_error        dec  parallax  parallax_error        pm      pmra  \\\n",
      "0     33.327072 -32.218691       NaN             NaN       NaN       NaN   \n",
      "1     10.546675 -32.204729       NaN             NaN       NaN       NaN   \n",
      "2     14.043483 -32.245498       NaN             NaN       NaN       NaN   \n",
      "3      7.955077 -32.247704       NaN             NaN       NaN       NaN   \n",
      "4      4.204405 -32.203502       NaN             NaN       NaN       NaN   \n",
      "...         ...        ...       ...             ...       ...       ...   \n",
      "6001   0.631642 -32.302132  1.526244        0.645452  6.835148 -5.666402   \n",
      "6002   0.595469 -32.303948  1.117071        0.644750  1.259013 -0.795198   \n",
      "6003   0.684166 -32.304422  0.169935        0.735473  3.131941 -1.544121   \n",
      "6004   0.429029 -32.297205  0.769929        0.447833  3.188344 -0.609373   \n",
      "6005   0.961862 -32.304537 -0.234106        0.871087  4.126590 -1.741950   \n",
      "\n",
      "      pmra_error  ...  has_epoch_rv  has_mcmc_gspphot  has_mcmc_msc  \\\n",
      "0            NaN  ...         False             False         False   \n",
      "1            NaN  ...         False             False         False   \n",
      "2            NaN  ...         False             False         False   \n",
      "3            NaN  ...         False             False         False   \n",
      "4            NaN  ...         False             False         False   \n",
      "...          ...  ...           ...               ...           ...   \n",
      "6001    0.848279  ...         False             False         False   \n",
      "6002    0.731357  ...         False             False         False   \n",
      "6003    0.736833  ...         False             False         False   \n",
      "6004    0.478120  ...         False             False         False   \n",
      "6005    1.199522  ...         False             False         False   \n",
      "\n",
      "      teff_gspphot  logg_gspphot  mh_gspphot  distance_gspphot  azero_gspphot  \\\n",
      "0              NaN           NaN         NaN               NaN            NaN   \n",
      "1              NaN           NaN         NaN               NaN            NaN   \n",
      "2              NaN           NaN         NaN               NaN            NaN   \n",
      "3              NaN           NaN         NaN               NaN            NaN   \n",
      "4              NaN           NaN         NaN               NaN            NaN   \n",
      "...            ...           ...         ...               ...            ...   \n",
      "6001           NaN           NaN         NaN               NaN            NaN   \n",
      "6002           NaN           NaN         NaN               NaN            NaN   \n",
      "6003           NaN           NaN         NaN               NaN            NaN   \n",
      "6004           NaN           NaN         NaN               NaN            NaN   \n",
      "6005           NaN           NaN         NaN               NaN            NaN   \n",
      "\n",
      "      ag_gspphot  ebpminrp_gspphot  \n",
      "0            NaN               NaN  \n",
      "1            NaN               NaN  \n",
      "2            NaN               NaN  \n",
      "3            NaN               NaN  \n",
      "4            NaN               NaN  \n",
      "...          ...               ...  \n",
      "6001         NaN               NaN  \n",
      "6002         NaN               NaN  \n",
      "6003         NaN               NaN  \n",
      "6004         NaN               NaN  \n",
      "6005         NaN               NaN  \n",
      "\n",
      "[6006 rows x 41 columns]\n"
     ]
    }
   ],
   "source": [
    "from astropy.io.votable import parse_single_table\n",
    "import pandas as pd\n",
    "\n",
    "table = parse_single_table(\"Messier 6.vot\")\n",
    "\n",
    "df = table.to_table().to_pandas()\n",
    "print(df)\n",
    "#df.to_csv(\" r.csv\",index=False)"
   ]
  },
  {
   "cell_type": "code",
   "execution_count": null,
   "id": "0f3c22e5-07f5-4ca5-965c-5d05645355e8",
   "metadata": {},
   "outputs": [],
   "source": []
  }
 ],
 "metadata": {
  "kernelspec": {
   "display_name": "Python 3 (ipykernel)",
   "language": "python",
   "name": "python3"
  },
  "language_info": {
   "codemirror_mode": {
    "name": "ipython",
    "version": 3
   },
   "file_extension": ".py",
   "mimetype": "text/x-python",
   "name": "python",
   "nbconvert_exporter": "python",
   "pygments_lexer": "ipython3",
   "version": "3.12.4"
  }
 },
 "nbformat": 4,
 "nbformat_minor": 5
}
